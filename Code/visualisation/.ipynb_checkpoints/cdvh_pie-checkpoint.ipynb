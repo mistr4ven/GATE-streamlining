{
 "cells": [
  {
   "cell_type": "markdown",
   "id": "05a27ff2-8283-47d7-97fc-65e4cc809d34",
   "metadata": {},
   "source": [
    "# Cumulative Dose volume with pie charts\n",
    "## Purpose\n",
    "The purpose of this code is to visualise the cumulative dose of one or multiple files in a pie chart instead of the usual histogram plot.  \n",
    "Displayed is:\n",
    "1. The percentage of particles getting the threshold Dose or above (**absolute value**)\n",
    "2. The percentage of particles getting a specific amount of the dose or more (**relative** to the max value)\n",
    "## Usage\n",
    "1. Input the amount of different files you'd like to compare in the code below.\n",
    "   - There will be one chart per file, not layered.\n",
    "   - The files share one common slider to compare the percentages\n",
    "2. Execute the first **three** cells.\n",
    "3. Input the files and choose names for them\n",
    "    - The files need to be *.npz* files containing certain data.\n",
    "    - To compute the data, please use the other provided program with *cdvpie.py* as math_op file.\n",
    "4. Execute the rest of the cells.\n",
    "5. Use the slider or input a value in the field next to it."
   ]
  },
  {
   "cell_type": "code",
   "execution_count": 1,
   "id": "416e0d52-1d94-47ff-9132-a884a4aff673",
   "metadata": {},
   "outputs": [],
   "source": [
    "# imports\n",
    "%matplotlib widget\n",
    "import numpy as np\n",
    "import matplotlib.pyplot as plt\n",
    "import ipywidgets as widgets\n",
    "from ipywidgets import interact\n",
    "import SimpleITK as sitk"
   ]
  },
  {
   "cell_type": "markdown",
   "id": "5d4a5594-b64d-4107-89a2-369f785a6202",
   "metadata": {},
   "source": [
    "Replace the number below with the amount of files you'd like to compare:"
   ]
  },
  {
   "cell_type": "code",
   "execution_count": 9,
   "id": "cfe105d9-bab6-4e7e-8675-216b9b4ec545",
   "metadata": {},
   "outputs": [],
   "source": [
    "files_to_compare = 2"
   ]
  },
  {
   "cell_type": "markdown",
   "id": "cb19a266-e47a-4569-a82f-d002d13aeb32",
   "metadata": {},
   "source": [
    "1. Execute the cell below\n",
    "2. Fill the input fields\n",
    "3. Press read input"
   ]
  },
  {
   "cell_type": "code",
   "execution_count": 10,
   "id": "e1628165-06ca-4c2a-bbe1-2a624dda687a",
   "metadata": {},
   "outputs": [
    {
     "data": {
      "application/vnd.jupyter.widget-view+json": {
       "model_id": "8f8b66c53a7d42ca824092dd99493d31",
       "version_major": 2,
       "version_minor": 0
      },
      "text/plain": [
       "HBox(children=(Text(value='', placeholder='Select cdv-pie file (.npz)'), Text(value='', placeholder='Select na…"
      ]
     },
     "metadata": {},
     "output_type": "display_data"
    },
    {
     "data": {
      "application/vnd.jupyter.widget-view+json": {
       "model_id": "602dc17ea62d451b88d1f1f8c97afb36",
       "version_major": 2,
       "version_minor": 0
      },
      "text/plain": [
       "HBox(children=(Text(value='', placeholder='Select cdv-pie file (.npz)'), Text(value='', placeholder='Select na…"
      ]
     },
     "metadata": {},
     "output_type": "display_data"
    },
    {
     "data": {
      "application/vnd.jupyter.widget-view+json": {
       "model_id": "233ecf59e35f41d6acfb75bf0cce1357",
       "version_major": 2,
       "version_minor": 0
      },
      "text/plain": [
       "Button(description='Read Inputs', style=ButtonStyle())"
      ]
     },
     "metadata": {},
     "output_type": "display_data"
    }
   ],
   "source": [
    "# list for the images\n",
    "cdvp_list = []\n",
    "\n",
    "# list for names\n",
    "names_list = []\n",
    "\n",
    "# create input fields for the files\n",
    "hBoxes = []\n",
    "\n",
    "for i in range (files_to_compare):\n",
    "    input_cdvp = widgets.Text(placeholder='Select cdv-pie file (.npz)')\n",
    "    cdvp_list.append(input_cdvp)\n",
    "    input_name = widgets.Text(placeholder='Select name')\n",
    "    names_list.append(input_name)\n",
    "\n",
    "    hbox = widgets.HBox([input_cdvp, input_name])\n",
    "    hBoxes.append(hbox)\n",
    "\n",
    "# display boxes\n",
    "for i in range (files_to_compare):\n",
    "    display(hBoxes[i])    \n",
    "\n",
    "def read_input_values():\n",
    "    cdvp_values = [widget.value for widget in cdvp_list]\n",
    "    name_values = [widget.value for widget in names_list]\n",
    "    return cdvp_values, name_values\n",
    "\n",
    "# button click event handler\n",
    "def on_button_click(b):\n",
    "    global cdvp_list, names_list\n",
    "    cdvp_list, names_list = read_input_values()\n",
    "\n",
    "read_button = widgets.Button(description='Read Inputs')\n",
    "read_button.on_click(on_button_click)\n",
    "\n",
    "# display the button\n",
    "display(read_button)"
   ]
  },
  {
   "cell_type": "markdown",
   "id": "91cc8a32-32b0-4352-a0a1-106bb2411a3e",
   "metadata": {},
   "source": [
    "## **Please specify files and press the button NOW. THEN execute the next field**"
   ]
  },
  {
   "cell_type": "code",
   "execution_count": 11,
   "id": "e60771d9-0287-440f-b312-dedf9f39df58",
   "metadata": {},
   "outputs": [],
   "source": [
    "# load cdv-pies\n",
    "cdvp_list = [cdvp.replace('\"', '') for cdvp in cdvp_list]\n",
    "cdvp_data = [np.load(file, allow_pickle=True) for file in cdvp_list]\n",
    "\n",
    "# extract data from the cdvhs\n",
    "flattened_images = [data['flat_image'] for data in cdvp_data]\n",
    "sorted_images = [data['sorted_image'] for data in cdvp_data]\n",
    "cumulative_sums = [data['cumsum_image'] for data in cdvp_data]"
   ]
  },
  {
   "cell_type": "code",
   "execution_count": 12,
   "id": "d08954bd-b46a-47e3-9567-13fa6a7bc57c",
   "metadata": {},
   "outputs": [],
   "source": [
    "# Calculate the maximum values for each array\n",
    "max_value_list = [np.max(image) for image in flattened_images]\n",
    "overall_max_value = max(max_value_list)\n"
   ]
  },
  {
   "cell_type": "markdown",
   "id": "e9ff2ff9-fdd6-49fc-9c4b-5c716f9bd39b",
   "metadata": {},
   "source": [
    "## Absolute Threshold\n",
    "Please use the slider for threshold adjustion."
   ]
  },
  {
   "cell_type": "code",
   "execution_count": 13,
   "id": "eff5c02a-9add-4e3d-9b13-487ec1adb2b0",
   "metadata": {},
   "outputs": [
    {
     "data": {
      "application/vnd.jupyter.widget-view+json": {
       "model_id": "201bf8a80f7340db97cd63bf8a08e6ea",
       "version_major": 2,
       "version_minor": 0
      },
      "text/plain": [
       "interactive(children=(FloatSlider(value=30.0, description='Cumulative Dose %:', max=2715.010004208845, step=0.…"
      ]
     },
     "metadata": {},
     "output_type": "display_data"
    },
    {
     "data": {
      "text/plain": [
       "<function __main__.update_plot(threshold)>"
      ]
     },
     "execution_count": 13,
     "metadata": {},
     "output_type": "execute_result"
    }
   ],
   "source": [
    "def update_plot(threshold):\n",
    "    global sorted_images\n",
    "    global overall_max_value\n",
    "    # clear the current plot\n",
    "    plt.clf()\n",
    "\n",
    "    # get the amount of images\n",
    "    num_images = len(sorted_images)\n",
    "    \n",
    "    # visualization\n",
    "    labels = [f'>= {threshold}GBq', f'< {threshold} GBq']\n",
    "    fig, axes = plt.subplots(1, num_images, figsize=(6 * num_images, 6))\n",
    "    \n",
    "    if num_images == 1:\n",
    "        axes = [axes]\n",
    "    \n",
    "    for idx, (image, ax) in enumerate(zip(sorted_images, axes)):\n",
    "        count_above_threshold = np.sum(image >= threshold)\n",
    "        total_count = image.size\n",
    "        percentage_above_threshold = (count_above_threshold / total_count) * 100\n",
    "        sizes = [percentage_above_threshold, 100 - percentage_above_threshold]\n",
    "        \n",
    "        ax.pie(sizes, labels=labels, autopct='%1.6f%%', startangle=90)\n",
    "        ax.axis('equal')  \n",
    "        ax.set_title(f'{names_list[idx]}: Voxel percent with Value >= {threshold} Gy')\n",
    "        # ax.set_title(f'Array {names_list[idx]}: Percentage of Data Points with Value >= {threshold}')\n",
    "\n",
    "    plt.show()\n",
    "\n",
    "# create a slider widget\n",
    "threshold_slider = widgets.FloatSlider(value=30.0, min=0.0, max=overall_max_value, step=0.01, description='Cumulative Dose %:')\n",
    "\n",
    "# use the interact function to update the plot based on the slider value\n",
    "interact(update_plot, threshold=threshold_slider)"
   ]
  },
  {
   "cell_type": "markdown",
   "id": "bcc20d51-0aa9-471c-9b52-a94fbe2e18c8",
   "metadata": {},
   "source": [
    "## Relative Threshold\n",
    "Please use the slider for threshold adjustion."
   ]
  },
  {
   "cell_type": "code",
   "execution_count": 14,
   "id": "eae13fa2-c867-4845-99fe-709ac36abc2e",
   "metadata": {},
   "outputs": [
    {
     "data": {
      "application/vnd.jupyter.widget-view+json": {
       "model_id": "32f0ec663d82493cb2c40e9fa39ae019",
       "version_major": 2,
       "version_minor": 0
      },
      "text/plain": [
       "interactive(children=(FloatSlider(value=30.0, description='Cumulative Dose %:', step=0.01), Output()), _dom_cl…"
      ]
     },
     "metadata": {},
     "output_type": "display_data"
    },
    {
     "data": {
      "text/plain": [
       "<function __main__.update_cm_plot(threshold_percentage)>"
      ]
     },
     "execution_count": 14,
     "metadata": {},
     "output_type": "execute_result"
    }
   ],
   "source": [
    "def update_cm_plot(threshold_percentage):\n",
    "    global sorted_images, cumulative_sums, flattened_images, names_list\n",
    "    # clear the current plot\n",
    "    plt.clf()\n",
    "\n",
    "    # get the amount of images\n",
    "    num_images = len(flattened_images)\n",
    "    \n",
    "    # visualization\n",
    "    fig, axes = plt.subplots(1, num_images, figsize=(6 * num_images, 6))\n",
    "    \n",
    "    if num_images == 1:\n",
    "        axes = [axes]\n",
    "\n",
    "    for idx, (sorted_image, cumulative, flattened_image, ax) in enumerate(zip(sorted_images, cumulative_sums, flattened_images, axes)):\n",
    "        cumulative_percentage = cumulative / cumulative[-1] * 100\n",
    "\n",
    "        threshold_index = np.searchsorted(cumulative_percentage, threshold_percentage)\n",
    "        threshold_value = sorted_image[threshold_index] if threshold_index < len(sorted_image) else sorted_image[-1]\n",
    "\n",
    "        count_above_threshold = np.sum(flattened_image >= threshold_value)\n",
    "        total_count = flattened_image.size\n",
    "        percentage_above_threshold = (count_above_threshold / total_count) * 100\n",
    "        sizes = [percentage_above_threshold, 100 - percentage_above_threshold]\n",
    "        \n",
    "        labels = [f'>= {threshold_value:.5f} Gy', f'< {threshold_value:.5f} Gy']\n",
    "        \n",
    "        ax.pie(sizes, labels=labels, autopct='%1.12f%%', startangle=90)\n",
    "        ax.axis('equal')  \n",
    "        ax.set_title(f'{names_list[idx]}: Cumulative Dose >= {threshold_percentage}%')\n",
    "        \n",
    "        # add data (change preciseness of floats here! .Xf)\n",
    "        text_x = 3  # x-coordinate for the text\n",
    "        text_y = 1.0 - (idx * 0.1)  # y-coordinate for the text\n",
    "\n",
    "    plt.show();\n",
    "\n",
    "# create a float slider widget (int is too imprecise if high values are getting interesting)\n",
    "threshold_slider = widgets.FloatSlider(value=30.0, min=0.0, max=100.0, step=0.01, description='Cumulative Dose %:')\n",
    "\n",
    "# use the interact function to update the plot based on the slider value\n",
    "interact(update_cm_plot, threshold_percentage=threshold_slider)\n"
   ]
  },
  {
   "cell_type": "code",
   "execution_count": null,
   "id": "e1a9d541-9437-4f1e-981e-ce229e941b00",
   "metadata": {},
   "outputs": [],
   "source": []
  }
 ],
 "metadata": {
  "kernelspec": {
   "display_name": "Python 3 (ipykernel)",
   "language": "python",
   "name": "python3"
  },
  "language_info": {
   "codemirror_mode": {
    "name": "ipython",
    "version": 3
   },
   "file_extension": ".py",
   "mimetype": "text/x-python",
   "name": "python",
   "nbconvert_exporter": "python",
   "pygments_lexer": "ipython3",
   "version": "3.13.2"
  },
  "widgets": {
   "application/vnd.jupyter.widget-state+json": {
    "state": {
     "01c1058ab3d54e6185a9a3310fd3e32b": {
      "model_module": "@jupyter-widgets/controls",
      "model_module_version": "2.0.0",
      "model_name": "FloatSliderModel",
      "state": {
       "behavior": "drag-tap",
       "description": "Cumulative Dose %:",
       "layout": "IPY_MODEL_94d738d2c583416aaf68e91d840bfb8f",
       "step": 0.01,
       "style": "IPY_MODEL_30f6f5b5ca21463d957fd3868d9284a4",
       "value": 30
      }
     },
     "17aeb3fb6da84e3697911b6a484c463f": {
      "model_module": "@jupyter-widgets/controls",
      "model_module_version": "2.0.0",
      "model_name": "VBoxModel",
      "state": {
       "_dom_classes": [
        "widget-interact"
       ],
       "children": [
        "IPY_MODEL_01c1058ab3d54e6185a9a3310fd3e32b",
        "IPY_MODEL_db4c9eb7167a490cbac79b0669564933"
       ],
       "layout": "IPY_MODEL_349141296928486d9b185ff4e7316136"
      }
     },
     "186c42b2dfcb4ad3afaa65137c24e03e": {
      "model_module": "@jupyter-widgets/base",
      "model_module_version": "2.0.0",
      "model_name": "LayoutModel",
      "state": {}
     },
     "1f0a3d9ab5324ff8b1383a6dfa32f5a2": {
      "model_module": "@jupyter-widgets/controls",
      "model_module_version": "2.0.0",
      "model_name": "HBoxModel",
      "state": {
       "children": [
        "IPY_MODEL_2414f0d130304248907ffc0863346da1",
        "IPY_MODEL_6778a299613349048e8b6b416b04da3e"
       ],
       "layout": "IPY_MODEL_8d9624b5a6104a178273baba9ef2e68c"
      }
     },
     "201c0348126c4bbdbea50580fd64ae8e": {
      "model_module": "@jupyter-widgets/controls",
      "model_module_version": "2.0.0",
      "model_name": "VBoxModel",
      "state": {
       "_dom_classes": [
        "widget-interact"
       ],
       "children": [
        "IPY_MODEL_b6adf37edcbd4f9facca05a81a6fe838",
        "IPY_MODEL_bd9ac946197d4372b681c9b1e8bb2ff7"
       ],
       "layout": "IPY_MODEL_70e53dbbe2004281a2eb4cd3946cea40"
      }
     },
     "2414f0d130304248907ffc0863346da1": {
      "model_module": "@jupyter-widgets/controls",
      "model_module_version": "2.0.0",
      "model_name": "TextModel",
      "state": {
       "layout": "IPY_MODEL_ef8449f9ce104dc7a045d955e4be98ed",
       "placeholder": "Select cdv-pie file (.npz)",
       "style": "IPY_MODEL_8a95dc3e345c4a748c808a822f82410a",
       "value": "../testdata/Ho166-Dose_cropped.npz"
      }
     },
     "2c2ad96d8e4241f098ae95b1a3403fd9": {
      "model_module": "@jupyter-widgets/base",
      "model_module_version": "2.0.0",
      "model_name": "LayoutModel",
      "state": {}
     },
     "30f6f5b5ca21463d957fd3868d9284a4": {
      "model_module": "@jupyter-widgets/controls",
      "model_module_version": "2.0.0",
      "model_name": "SliderStyleModel",
      "state": {
       "description_width": ""
      }
     },
     "349141296928486d9b185ff4e7316136": {
      "model_module": "@jupyter-widgets/base",
      "model_module_version": "2.0.0",
      "model_name": "LayoutModel",
      "state": {}
     },
     "37123f7ce5504a84831ddd22e96f3233": {
      "model_module": "@jupyter-widgets/base",
      "model_module_version": "2.0.0",
      "model_name": "LayoutModel",
      "state": {}
     },
     "392ace8f77fc44179e308202954dfe3c": {
      "model_module": "@jupyter-widgets/controls",
      "model_module_version": "2.0.0",
      "model_name": "SliderStyleModel",
      "state": {
       "description_width": ""
      }
     },
     "42955ab33b4d43c6bb5b846704a5b437": {
      "model_module": "@jupyter-widgets/controls",
      "model_module_version": "2.0.0",
      "model_name": "HBoxModel",
      "state": {
       "children": [
        "IPY_MODEL_d876658259374782b6d32ac8ab6d834b",
        "IPY_MODEL_892488a9d9294112ba480299a187125c"
       ],
       "layout": "IPY_MODEL_5b1ae2f3185f447293ccf4ff4e5c90f0"
      }
     },
     "4fd563e57f624a9f8a4063a7a7db4c9d": {
      "model_module": "@jupyter-widgets/base",
      "model_module_version": "2.0.0",
      "model_name": "LayoutModel",
      "state": {}
     },
     "58fcf15a3d7749799a213d82379873b1": {
      "model_module": "@jupyter-widgets/controls",
      "model_module_version": "2.0.0",
      "model_name": "IntSliderModel",
      "state": {
       "behavior": "drag-tap",
       "description": "Threshold:",
       "layout": "IPY_MODEL_186c42b2dfcb4ad3afaa65137c24e03e",
       "max": 16742,
       "style": "IPY_MODEL_392ace8f77fc44179e308202954dfe3c",
       "value": 7996
      }
     },
     "5b1837f2941e4ac09dc9d7b12549c4c6": {
      "model_module": "@jupyter-widgets/controls",
      "model_module_version": "2.0.0",
      "model_name": "TextStyleModel",
      "state": {
       "description_width": "",
       "font_size": null,
       "text_color": null
      }
     },
     "5b1ae2f3185f447293ccf4ff4e5c90f0": {
      "model_module": "@jupyter-widgets/base",
      "model_module_version": "2.0.0",
      "model_name": "LayoutModel",
      "state": {}
     },
     "5bfa5e5aeb1b4f1b8ee694c386038ef0": {
      "model_module": "@jupyter-widgets/base",
      "model_module_version": "2.0.0",
      "model_name": "LayoutModel",
      "state": {}
     },
     "6778a299613349048e8b6b416b04da3e": {
      "model_module": "@jupyter-widgets/controls",
      "model_module_version": "2.0.0",
      "model_name": "TextModel",
      "state": {
       "layout": "IPY_MODEL_a995a2e6a3df47508b100ad6876553ac",
       "placeholder": "Select name",
       "style": "IPY_MODEL_aeffacae34774deaafda4451e85254e0",
       "value": "H"
      }
     },
     "6f1cd2ed9d8b44f1a2e5eccab4703d50": {
      "model_module": "@jupyter-widgets/controls",
      "model_module_version": "2.0.0",
      "model_name": "VBoxModel",
      "state": {
       "_dom_classes": [
        "widget-interact"
       ],
       "children": [
        "IPY_MODEL_58fcf15a3d7749799a213d82379873b1",
        "IPY_MODEL_95f8d58ff1424c14bb7b213a6f43647b"
       ],
       "layout": "IPY_MODEL_a50a5054d765403d90fa816eac3eb6ba"
      }
     },
     "6fb8c9d2aa204b4fb5d2f06bba2ad9c4": {
      "model_module": "@jupyter-widgets/base",
      "model_module_version": "2.0.0",
      "model_name": "LayoutModel",
      "state": {}
     },
     "70e53dbbe2004281a2eb4cd3946cea40": {
      "model_module": "@jupyter-widgets/base",
      "model_module_version": "2.0.0",
      "model_name": "LayoutModel",
      "state": {}
     },
     "804f8d6219e6423fa39d13d8b74a6430": {
      "model_module": "@jupyter-widgets/controls",
      "model_module_version": "2.0.0",
      "model_name": "ButtonStyleModel",
      "state": {
       "font_family": null,
       "font_size": null,
       "font_style": null,
       "font_variant": null,
       "font_weight": null,
       "text_color": null,
       "text_decoration": null
      }
     },
     "8628635bda054d24809f2e38105325b9": {
      "model_module": "@jupyter-widgets/controls",
      "model_module_version": "2.0.0",
      "model_name": "ButtonModel",
      "state": {
       "description": "Read Inputs",
       "layout": "IPY_MODEL_5bfa5e5aeb1b4f1b8ee694c386038ef0",
       "style": "IPY_MODEL_804f8d6219e6423fa39d13d8b74a6430",
       "tooltip": null
      }
     },
     "892488a9d9294112ba480299a187125c": {
      "model_module": "@jupyter-widgets/controls",
      "model_module_version": "2.0.0",
      "model_name": "TextModel",
      "state": {
       "layout": "IPY_MODEL_a61b7b6c1ce343d8a12584395ae42125",
       "placeholder": "Select name",
       "style": "IPY_MODEL_5b1837f2941e4ac09dc9d7b12549c4c6",
       "value": "Y6"
      }
     },
     "8a95dc3e345c4a748c808a822f82410a": {
      "model_module": "@jupyter-widgets/controls",
      "model_module_version": "2.0.0",
      "model_name": "TextStyleModel",
      "state": {
       "description_width": "",
       "font_size": null,
       "text_color": null
      }
     },
     "8d9624b5a6104a178273baba9ef2e68c": {
      "model_module": "@jupyter-widgets/base",
      "model_module_version": "2.0.0",
      "model_name": "LayoutModel",
      "state": {}
     },
     "94d738d2c583416aaf68e91d840bfb8f": {
      "model_module": "@jupyter-widgets/base",
      "model_module_version": "2.0.0",
      "model_name": "LayoutModel",
      "state": {}
     },
     "95f8d58ff1424c14bb7b213a6f43647b": {
      "model_module": "@jupyter-widgets/output",
      "model_module_version": "1.0.0",
      "model_name": "OutputModel",
      "state": {
       "layout": "IPY_MODEL_4fd563e57f624a9f8a4063a7a7db4c9d",
       "outputs": [
        {
         "data": {
          "text/plain": "<Figure size 640x480 with 0 Axes>"
         },
         "metadata": {},
         "output_type": "display_data"
        },
        {
         "data": {
          "image/png": "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",
          "text/plain": "<Figure size 600x600 with 1 Axes>"
         },
         "metadata": {},
         "output_type": "display_data"
        }
       ]
      }
     },
     "a50a5054d765403d90fa816eac3eb6ba": {
      "model_module": "@jupyter-widgets/base",
      "model_module_version": "2.0.0",
      "model_name": "LayoutModel",
      "state": {}
     },
     "a61b7b6c1ce343d8a12584395ae42125": {
      "model_module": "@jupyter-widgets/base",
      "model_module_version": "2.0.0",
      "model_name": "LayoutModel",
      "state": {}
     },
     "a995a2e6a3df47508b100ad6876553ac": {
      "model_module": "@jupyter-widgets/base",
      "model_module_version": "2.0.0",
      "model_name": "LayoutModel",
      "state": {}
     },
     "aeffacae34774deaafda4451e85254e0": {
      "model_module": "@jupyter-widgets/controls",
      "model_module_version": "2.0.0",
      "model_name": "TextStyleModel",
      "state": {
       "description_width": "",
       "font_size": null,
       "text_color": null
      }
     },
     "b2e8b4bd748f41f5b34f9648837826f0": {
      "model_module": "@jupyter-widgets/controls",
      "model_module_version": "2.0.0",
      "model_name": "TextStyleModel",
      "state": {
       "description_width": "",
       "font_size": null,
       "text_color": null
      }
     },
     "b6adf37edcbd4f9facca05a81a6fe838": {
      "model_module": "@jupyter-widgets/controls",
      "model_module_version": "2.0.0",
      "model_name": "IntSliderModel",
      "state": {
       "behavior": "drag-tap",
       "description": "Threshold:",
       "layout": "IPY_MODEL_37123f7ce5504a84831ddd22e96f3233",
       "max": 16742,
       "style": "IPY_MODEL_e61337be059d4534acf1054d1b643a7b",
       "value": 30
      }
     },
     "bd9ac946197d4372b681c9b1e8bb2ff7": {
      "model_module": "@jupyter-widgets/output",
      "model_module_version": "1.0.0",
      "model_name": "OutputModel",
      "state": {
       "layout": "IPY_MODEL_6fb8c9d2aa204b4fb5d2f06bba2ad9c4",
       "outputs": [
        {
         "data": {
          "text/plain": "<Figure size 640x480 with 0 Axes>"
         },
         "metadata": {},
         "output_type": "display_data"
        },
        {
         "data": {
          "image/png": "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",
          "text/plain": "<Figure size 600x600 with 1 Axes>"
         },
         "metadata": {},
         "output_type": "display_data"
        }
       ]
      }
     },
     "c51f7c5463814ae388d2e9dec9b1357f": {
      "model_module": "@jupyter-widgets/base",
      "model_module_version": "2.0.0",
      "model_name": "LayoutModel",
      "state": {}
     },
     "d2d5ac9c73b041c795bfb8d532d9258e": {
      "model_module": "@jupyter-widgets/base",
      "model_module_version": "2.0.0",
      "model_name": "LayoutModel",
      "state": {}
     },
     "d77efa71975144bc9571001a287e9f43": {
      "model_module": "@jupyter-widgets/controls",
      "model_module_version": "2.0.0",
      "model_name": "ButtonStyleModel",
      "state": {
       "font_family": null,
       "font_size": null,
       "font_style": null,
       "font_variant": null,
       "font_weight": null,
       "text_color": null,
       "text_decoration": null
      }
     },
     "d876658259374782b6d32ac8ab6d834b": {
      "model_module": "@jupyter-widgets/controls",
      "model_module_version": "2.0.0",
      "model_name": "TextModel",
      "state": {
       "layout": "IPY_MODEL_2c2ad96d8e4241f098ae95b1a3403fd9",
       "placeholder": "Select cdv-pie file (.npz)",
       "style": "IPY_MODEL_b2e8b4bd748f41f5b34f9648837826f0",
       "value": "test2-Y6.npz"
      }
     },
     "db4c9eb7167a490cbac79b0669564933": {
      "model_module": "@jupyter-widgets/output",
      "model_module_version": "1.0.0",
      "model_name": "OutputModel",
      "state": {
       "layout": "IPY_MODEL_d2d5ac9c73b041c795bfb8d532d9258e",
       "outputs": [
        {
         "data": {
          "text/plain": "<Figure size 640x480 with 0 Axes>"
         },
         "metadata": {},
         "output_type": "display_data"
        },
        {
         "data": {
          "image/png": "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",
          "text/plain": "<Figure size 600x600 with 1 Axes>"
         },
         "metadata": {},
         "output_type": "display_data"
        }
       ]
      }
     },
     "e61337be059d4534acf1054d1b643a7b": {
      "model_module": "@jupyter-widgets/controls",
      "model_module_version": "2.0.0",
      "model_name": "SliderStyleModel",
      "state": {
       "description_width": ""
      }
     },
     "ef8449f9ce104dc7a045d955e4be98ed": {
      "model_module": "@jupyter-widgets/base",
      "model_module_version": "2.0.0",
      "model_name": "LayoutModel",
      "state": {}
     },
     "ff5aed7803714dfb8cf217a6f85155e2": {
      "model_module": "@jupyter-widgets/controls",
      "model_module_version": "2.0.0",
      "model_name": "ButtonModel",
      "state": {
       "description": "Read Inputs",
       "layout": "IPY_MODEL_c51f7c5463814ae388d2e9dec9b1357f",
       "style": "IPY_MODEL_d77efa71975144bc9571001a287e9f43",
       "tooltip": null
      }
     }
    },
    "version_major": 2,
    "version_minor": 0
   }
  }
 },
 "nbformat": 4,
 "nbformat_minor": 5
}
